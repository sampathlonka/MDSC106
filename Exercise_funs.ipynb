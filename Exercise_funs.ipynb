{
 "cells": [
  {
   "cell_type": "markdown",
   "source": [
    "## probelms in Functions\r\n",
    "\r\n",
    "1. Recall that the *hyperbolic sine*, denoted by $sinh$, is ${exp(x)−exp(−x)\\over 2}$. Write a function `my_sinh(x)`, where the output `y` is the *hyperbolic sine* computed on x. Assume that x is a 1 by 1 float."
   ],
   "metadata": {}
  },
  {
   "cell_type": "code",
   "execution_count": null,
   "source": [],
   "outputs": [],
   "metadata": {}
  },
  {
   "cell_type": "markdown",
   "source": [
    "2. Write a function `ar_triangle(b,h)` where the output is the area of a triangle with base, $b,$ and height, $h.$ Recall that the area of a triangle is one-half the base times the height. Assume that $b$ and $h$ are just 1 by 1 float numbers."
   ],
   "metadata": {}
  },
  {
   "cell_type": "code",
   "execution_count": null,
   "source": [],
   "outputs": [],
   "metadata": {}
  },
  {
   "cell_type": "markdown",
   "source": [
    "3. Write a function `vol_cylinder(r,h)`, where $r$ and $h$ are the radius and height of a cylinder, respectively, and the output is a list $[s, v]$ where $s$ and $v$ are the surface area and volume of the same cylinder, respectively. Recall that the surface area of a cylinder is $2πr^2+2πrh,$ and the volume is $πr^2h.$    Assume that $r$ and $h$ are 1 by 1 float."
   ],
   "metadata": {}
  },
  {
   "cell_type": "code",
   "execution_count": null,
   "source": [],
   "outputs": [],
   "metadata": {}
  },
  {
   "cell_type": "markdown",
   "source": [
    "4.  Write a function `n_odds(x)`, where $x$ is a one-dimensional array of floats and the output is the number of odd numbers in $x.$"
   ],
   "metadata": {}
  },
  {
   "cell_type": "code",
   "execution_count": null,
   "source": [],
   "outputs": [],
   "metadata": {}
  },
  {
   "cell_type": "markdown",
   "source": [
    "5. a) Write a `lambda` function that takes in $x$ and $y,$ and output the value of $x - y.$\r\n",
    "\r\n",
    "   b) Write a function `add_string(s1,s2)`, where the output is the concatenation of the strings s1 and s2."
   ],
   "metadata": {}
  },
  {
   "cell_type": "markdown",
   "source": [],
   "metadata": {}
  }
 ],
 "metadata": {
  "orig_nbformat": 4,
  "language_info": {
   "name": "python"
  }
 },
 "nbformat": 4,
 "nbformat_minor": 2
}