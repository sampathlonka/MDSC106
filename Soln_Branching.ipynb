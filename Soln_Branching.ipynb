{
 "cells": [
  {
   "cell_type": "markdown",
   "source": [
    "# Probelms on Branching\r\n",
    "1.    Write a function `tip_calc(bill, party)`, where bill is the total cost of a meal and party is the number of people in the group. The tip should be calculated as 15% for a party strictly less than six people, 18% for a party strictly less than eight, 20% for a party less than 11, and 25% for a party 11 or more. A couple of test cases are given below."
   ],
   "metadata": {}
  },
  {
   "cell_type": "code",
   "execution_count": 1,
   "source": [
    "def tip_calc(bill, party):\r\n",
    "    \"\"\"[summary]\r\n",
    "    Calculating tip of the bill\r\n",
    "    Args:\r\n",
    "        bill ([type]): Int or Float\r\n",
    "        party ([type]): Int\r\n",
    "    \"\"\"\r\n",
    "    if party < 6:\r\n",
    "        tip = bill * 0.15\r\n",
    "    elif party < 8:\r\n",
    "        tip = bill * 0.18\r\n",
    "    elif party < 11:\r\n",
    "        tip = bill * 0.20\r\n",
    "    else:\r\n",
    "        tip = bill * 0.25\r\n",
    "    return tip\r\n"
   ],
   "outputs": [],
   "metadata": {}
  },
  {
   "cell_type": "code",
   "execution_count": 3,
   "source": [
    "t = tip_calc(109.29, 3)\r\n",
    "t"
   ],
   "outputs": [
    {
     "output_type": "execute_result",
     "data": {
      "text/plain": [
       "16.3935"
      ]
     },
     "metadata": {},
     "execution_count": 3
    }
   ],
   "metadata": {}
  },
  {
   "cell_type": "code",
   "execution_count": 4,
   "source": [
    "t = tip_calc(109.29,7)\r\n",
    "t"
   ],
   "outputs": [
    {
     "output_type": "execute_result",
     "data": {
      "text/plain": [
       "19.6722"
      ]
     },
     "metadata": {},
     "execution_count": 4
    }
   ],
   "metadata": {}
  },
  {
   "cell_type": "code",
   "execution_count": 5,
   "source": [
    "t = tip_calc(109.29,12)\r\n",
    "t"
   ],
   "outputs": [
    {
     "output_type": "execute_result",
     "data": {
      "text/plain": [
       "27.3225"
      ]
     },
     "metadata": {},
     "execution_count": 5
    }
   ],
   "metadata": {}
  },
  {
   "cell_type": "markdown",
   "source": [
    "2.    Write a function `mult_operation(a,b,operation)`. The input argument, operation, is a string that is either 'plus', 'minus', 'mult', 'div', or 'pow', and the function should compute: a+b, a−b, a∗b, a/b, and ab for the respective values for operation. A couple of test cases are given below."
   ],
   "metadata": {}
  },
  {
   "cell_type": "code",
   "execution_count": 6,
   "source": [
    "def multiple_op(a,b,op):\r\n",
    "    \"\"\"[summary]\r\n",
    "    Calculating multiple operations\r\n",
    "    Args:\r\n",
    "        a ([type]): Int or Float\r\n",
    "        b ([type]): Int or Float\r\n",
    "        op ([type]): String\r\n",
    "    \"\"\"\r\n",
    "    if op == 'plus':\r\n",
    "        out = a+b\r\n",
    "    elif op == 'minus':\r\n",
    "        out = a-b\r\n",
    "    elif op == 'mult':\r\n",
    "        out = a*b\r\n",
    "    elif op == 'div':\r\n",
    "        out = a/b\r\n",
    "    else:\r\n",
    "        out = a**b\r\n",
    "    return out\r\n",
    "    "
   ],
   "outputs": [],
   "metadata": {}
  },
  {
   "cell_type": "code",
   "execution_count": 8,
   "source": [
    "import numpy as np\r\n",
    "x = np.array([1,2,3,4])\r\n",
    "y = np.array([2,3,4,5])\r\n",
    "\r\n",
    "oplus = multiple_op(x,y,'plus')\r\n",
    "oplus"
   ],
   "outputs": [
    {
     "output_type": "execute_result",
     "data": {
      "text/plain": [
       "array([3, 5, 7, 9])"
      ]
     },
     "metadata": {},
     "execution_count": 8
    }
   ],
   "metadata": {}
  },
  {
   "cell_type": "code",
   "execution_count": 9,
   "source": [
    "ominus = multiple_op(x,y,'minus')\r\n",
    "ominus"
   ],
   "outputs": [
    {
     "output_type": "execute_result",
     "data": {
      "text/plain": [
       "array([-1, -1, -1, -1])"
      ]
     },
     "metadata": {},
     "execution_count": 9
    }
   ],
   "metadata": {}
  },
  {
   "cell_type": "code",
   "execution_count": 10,
   "source": [
    "opow = multiple_op(x,y,'pow')\r\n",
    "opow"
   ],
   "outputs": [
    {
     "output_type": "execute_result",
     "data": {
      "text/plain": [
       "array([   1,    8,   81, 1024], dtype=int32)"
      ]
     },
     "metadata": {},
     "execution_count": 10
    }
   ],
   "metadata": {}
  },
  {
   "cell_type": "markdown",
   "source": [
    "4.    Consider a triangle with vertices at (0,0), (1,0), and (0,1). Write a function `inside_triangle(x,y)` where the output is the string ‘outside’ if the point (x,y) is outside of the triangle, ‘border’ if the point is exactly on the border of the triangle, and ‘inside’ if the point is on the inside of the triangle."
   ],
   "metadata": {}
  },
  {
   "cell_type": "code",
   "execution_count": 33,
   "source": [
    "def isInside(x,y):\r\n",
    "    \"\"\"[summary]\r\n",
    "    Locating the position of the point\r\n",
    "    Args:\r\n",
    "        x ([type]): Int or Float\r\n",
    "        y ([type]): Int or Float\r\n",
    "    \"\"\"\r\n",
    "    def ar_triangle(a,b,c):\r\n",
    "        return 0.5 * abs(a[0]*(b[1]-c[1])+b[0]*(c[1]-a[1])+c[0]*(a[1]-b[1]))\r\n",
    "    ar1 = ar_triangle((0,0),(0,1),(x,y))\r\n",
    "    ar2 = ar_triangle((0,0),(1,0),(x,y))\r\n",
    "    ar3 = ar_triangle((1,0),(0,1),(x,y))\r\n",
    "    if ar1 == 0 or ar2 == 0 or ar3 == 0:\r\n",
    "        position = 'Boundary'\r\n",
    "    elif ar1+ar2+ar3 == 0.5:\r\n",
    "        position = \"Inside\"\r\n",
    "    else:\r\n",
    "        position = \"Outside\"\r\n",
    "    return position"
   ],
   "outputs": [],
   "metadata": {}
  },
  {
   "cell_type": "code",
   "execution_count": 34,
   "source": [
    "isInside(0.5,0.5)"
   ],
   "outputs": [
    {
     "output_type": "execute_result",
     "data": {
      "text/plain": [
       "'Boundary'"
      ]
     },
     "metadata": {},
     "execution_count": 34
    }
   ],
   "metadata": {}
  },
  {
   "cell_type": "code",
   "execution_count": 35,
   "source": [
    "isInside(0.25,0.25)"
   ],
   "outputs": [
    {
     "output_type": "execute_result",
     "data": {
      "text/plain": [
       "'Inside'"
      ]
     },
     "metadata": {},
     "execution_count": 35
    }
   ],
   "metadata": {}
  },
  {
   "cell_type": "code",
   "execution_count": 36,
   "source": [
    "isInside(5,5)"
   ],
   "outputs": [
    {
     "output_type": "execute_result",
     "data": {
      "text/plain": [
       "'Outside'"
      ]
     },
     "metadata": {},
     "execution_count": 36
    }
   ],
   "metadata": {}
  },
  {
   "cell_type": "markdown",
   "source": [
    "5.    Write a function `make_size10(x)`, where $x$ is an array and output is the first 10 elements of x if x has more than 10 elements, and output is the array x padded with enough zeros to make it length 10 if x has less than 10 elements."
   ],
   "metadata": {}
  },
  {
   "cell_type": "code",
   "execution_count": 55,
   "source": [
    "\r\n",
    "def make_size10(x):\r\n",
    "    \"\"\"[summary]\r\n",
    "    Creating an array from x having\r\n",
    "    exactly 10 elements\r\n",
    "    Args:\r\n",
    "        x ([type]): [array]\r\n",
    "    \"\"\"\r\n",
    "    if len(x) < 10:\r\n",
    "        y = np.zeros((1,10-len(x)))\r\n",
    "        size10 = np.append(x,y)\r\n",
    "    else:\r\n",
    "        size10 = x[0:10]\r\n",
    "    return np.array(size10)"
   ],
   "outputs": [],
   "metadata": {}
  },
  {
   "cell_type": "code",
   "execution_count": 53,
   "source": [
    "x = np.array([1,2,3,6,8,8,9,1])\r\n",
    "#x=np.append(x,0)\r\n",
    "make_size10(x)"
   ],
   "outputs": [
    {
     "output_type": "execute_result",
     "data": {
      "text/plain": [
       "array([1., 2., 3., 6., 8., 8., 9., 1., 0., 0.])"
      ]
     },
     "metadata": {},
     "execution_count": 53
    }
   ],
   "metadata": {}
  },
  {
   "cell_type": "markdown",
   "source": [
    "Learn more about np.append from the [document](https://numpy.org/doc/stable/reference/generated/numpy.append.html)."
   ],
   "metadata": {}
  },
  {
   "cell_type": "code",
   "execution_count": 56,
   "source": [
    "make_size10(range(1,15))"
   ],
   "outputs": [
    {
     "output_type": "execute_result",
     "data": {
      "text/plain": [
       "array([ 1,  2,  3,  4,  5,  6,  7,  8,  9, 10])"
      ]
     },
     "metadata": {},
     "execution_count": 56
    }
   ],
   "metadata": {}
  },
  {
   "cell_type": "code",
   "execution_count": 59,
   "source": [
    "make_size10((5,5))"
   ],
   "outputs": [
    {
     "output_type": "execute_result",
     "data": {
      "text/plain": [
       "array([5., 5., 0., 0., 0., 0., 0., 0., 0., 0.])"
      ]
     },
     "metadata": {},
     "execution_count": 59
    }
   ],
   "metadata": {}
  },
  {
   "cell_type": "markdown",
   "source": [
    "6.    Can you write my_make_size10 without using if-statements (i.e., using only logical and array operations)?"
   ],
   "metadata": {}
  },
  {
   "cell_type": "markdown",
   "source": [
    "7.    Write a function `letter_grader(percent)`, where grade is the string ‘O’ if percent is greater than 80, ‘A’ if percent is greater than 70, ‘B‘ if percent is greater than 60, ‘C’ if percent is greater than 40, and ‘F’ if percent is less than 40. Grades exactly on the division should be included in the higher grade category."
   ],
   "metadata": {}
  },
  {
   "cell_type": "code",
   "execution_count": 66,
   "source": [
    "def letter_grader(percent):\r\n",
    "    \"\"\"[summary]\r\n",
    "    Converting percent into letter grades\r\n",
    "    Args:\r\n",
    "        percent ([type]): [Int or Float]\r\n",
    "    \"\"\"\r\n",
    "    if percent > 80:\r\n",
    "        grade = \"O\"\r\n",
    "    elif percent > 70:\r\n",
    "        grade = \"A\"\r\n",
    "    elif percent > 60:\r\n",
    "        grade = \"B\"\r\n",
    "    elif percent > 50:\r\n",
    "        grade = \"C\"\r\n",
    "    elif percent >= 40:\r\n",
    "        grade = \"D\"\r\n",
    "    else:\r\n",
    "        grade = \"F\"\r\n",
    "    return grade"
   ],
   "outputs": [],
   "metadata": {}
  },
  {
   "cell_type": "code",
   "execution_count": 67,
   "source": [
    "letter_grader(84)"
   ],
   "outputs": [
    {
     "output_type": "execute_result",
     "data": {
      "text/plain": [
       "'O'"
      ]
     },
     "metadata": {},
     "execution_count": 67
    }
   ],
   "metadata": {}
  },
  {
   "cell_type": "code",
   "execution_count": 68,
   "source": [
    "letter_grader(97)"
   ],
   "outputs": [
    {
     "output_type": "execute_result",
     "data": {
      "text/plain": [
       "'O'"
      ]
     },
     "metadata": {},
     "execution_count": 68
    }
   ],
   "metadata": {}
  },
  {
   "cell_type": "code",
   "execution_count": 69,
   "source": [
    "letter_grader(65)"
   ],
   "outputs": [
    {
     "output_type": "execute_result",
     "data": {
      "text/plain": [
       "'B'"
      ]
     },
     "metadata": {},
     "execution_count": 69
    }
   ],
   "metadata": {}
  },
  {
   "cell_type": "markdown",
   "source": [
    "8.    Consider a nuclear reactor whose temperature is monitored by three sensors. An alarm should go off if any two of the sensor readings disagree. Write a function `nuke_alarm(s1,s2,s3)` where s1, s2, and s3 are the temperature readings for sensor 1, sensor 2, and sensor 3, respectively. The output should be the string ‘alarm!’ if any two of the temperature readings disagree by strictly more than 10 degrees and ‘normal’ otherwise."
   ],
   "metadata": {}
  },
  {
   "cell_type": "code",
   "execution_count": 73,
   "source": [
    "def nuke_alarm(s1,s2,s3):\r\n",
    "    \"\"\"[summary]\r\n",
    "\r\n",
    "    Args:\r\n",
    "        s1 ([type]): [description]\r\n",
    "        s2 ([type]): [description]\r\n",
    "        s3 ([type]): [description]\r\n",
    "    \"\"\"\r\n",
    "    if abs(s1-s2) > 10 or abs(s1-s3)> 10 or abs(s2-s3)> 10:\r\n",
    "        response = 'alarm!'\r\n",
    "    else:\r\n",
    "        response = 'normal'\r\n",
    "    return response"
   ],
   "outputs": [],
   "metadata": {}
  },
  {
   "cell_type": "code",
   "execution_count": 75,
   "source": [
    "nuke_alarm(20,5,15)"
   ],
   "outputs": [
    {
     "output_type": "execute_result",
     "data": {
      "text/plain": [
       "'alarm!'"
      ]
     },
     "metadata": {},
     "execution_count": 75
    }
   ],
   "metadata": {}
  },
  {
   "cell_type": "code",
   "execution_count": 76,
   "source": [
    "nuke_alarm(95,96,80)"
   ],
   "outputs": [
    {
     "output_type": "execute_result",
     "data": {
      "text/plain": [
       "'alarm!'"
      ]
     },
     "metadata": {},
     "execution_count": 76
    }
   ],
   "metadata": {}
  },
  {
   "cell_type": "markdown",
   "source": [
    "9.    Write a function `n_roots(a,b,c)`, where $a, b,$ and $c$ are the coefficients of the quadratic $Q(x)$, the function should return two values: `n_roots` is number of roots  and `r` is the roots of $Q(x).$ `n_roots` is 2 if Q has two real roots, 1 if Q has one root, −2 if Q has two imaginary roots, and r is an array containing the roots of Q."
   ],
   "metadata": {}
  },
  {
   "cell_type": "code",
   "execution_count": 81,
   "source": [
    "def n_roots(a,b,c):\r\n",
    "    \"\"\"[summary]\r\n",
    "\r\n",
    "    Args:\r\n",
    "        a ([type]): [description]\r\n",
    "        b ([type]): [description]\r\n",
    "        c ([type]): [description]\r\n",
    "    \"\"\"\r\n",
    "    delta = b**2-4*a*c\r\n",
    "    if delta == 0:\r\n",
    "        n_roots = 1\r\n",
    "        r = - b / (2*a)\r\n",
    "    elif delta > 0:\r\n",
    "        n_roots = 2\r\n",
    "        r = [- (b - np.sqrt(delta))  / (2*a),- (b + np.sqrt(delta))  / (2*a)]\r\n",
    "    else:\r\n",
    "        n_roots = 2\r\n",
    "        r = [complex(-b/ (2*a), -(np.sqrt(-delta)/ (2*a))),complex(-b/ (2*a), (np.sqrt(-delta)/ (2*a)))]\r\n",
    "        \r\n",
    "    return n_roots, r "
   ],
   "outputs": [],
   "metadata": {}
  },
  {
   "cell_type": "code",
   "execution_count": 82,
   "source": [
    "n_roots(1,0,-9)"
   ],
   "outputs": [
    {
     "output_type": "execute_result",
     "data": {
      "text/plain": [
       "(2, [3.0, -3.0])"
      ]
     },
     "metadata": {},
     "execution_count": 82
    }
   ],
   "metadata": {}
  },
  {
   "cell_type": "code",
   "execution_count": 83,
   "source": [
    "n_roots(2,4,2)"
   ],
   "outputs": [
    {
     "output_type": "execute_result",
     "data": {
      "text/plain": [
       "(1, -1.0)"
      ]
     },
     "metadata": {},
     "execution_count": 83
    }
   ],
   "metadata": {}
  },
  {
   "cell_type": "code",
   "execution_count": 84,
   "source": [
    "n_roots(3,4,5)"
   ],
   "outputs": [
    {
     "output_type": "execute_result",
     "data": {
      "text/plain": [
       "(2,\n",
       " [(-0.6666666666666666-1.1055415967851332j),\n",
       "  (-0.6666666666666666+1.1055415967851332j)])"
      ]
     },
     "metadata": {},
     "execution_count": 84
    }
   ],
   "metadata": {}
  },
  {
   "cell_type": "markdown",
   "source": [
    "10. Write a function `split_function(f,g,a,b,x)`, where $f$ and $g$ are handles to functions f(x) and g(x), respectively. The output should be $f(x)$ if $x≤a, g(x)$ if $x≥b,$ and 0 otherwise. You may assume that $b>a.$"
   ],
   "metadata": {}
  },
  {
   "cell_type": "code",
   "execution_count": null,
   "source": [],
   "outputs": [],
   "metadata": {}
  }
 ],
 "metadata": {
  "orig_nbformat": 4,
  "language_info": {
   "name": "python",
   "version": "3.9.5",
   "mimetype": "text/x-python",
   "codemirror_mode": {
    "name": "ipython",
    "version": 3
   },
   "pygments_lexer": "ipython3",
   "nbconvert_exporter": "python",
   "file_extension": ".py"
  },
  "kernelspec": {
   "name": "python3",
   "display_name": "Python 3.9.5 64-bit"
  },
  "interpreter": {
   "hash": "a65d8f67d09b4ab847b5c538330978b4976ad7f006df7e5ad1ae57be3517caf4"
  }
 },
 "nbformat": 4,
 "nbformat_minor": 2
}