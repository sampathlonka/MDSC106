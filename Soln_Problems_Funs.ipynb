{
 "cells": [
  {
   "cell_type": "markdown",
   "source": [
    "# Problems on Functions\r\n",
    "\r\n",
    "1. Recall that the *hyperbolic sine*, denoted by $sinh$, is ${exp(x)−exp(−x)\\over 2}$. Write a function `my_sinh(x)`, where the output `y` is the *hyperbolic sine* computed on x. Assume that x is a 1by 1 float."
   ],
   "metadata": {}
  },
  {
   "cell_type": "code",
   "execution_count": 57,
   "source": [
    "# Validate your function\r\n",
    "# In: my_shinh(0)\r\n",
    "# Out: 0\r\n",
    "\r\n",
    "# In: my_shinh(1)\r\n",
    "# Out: 1.1752"
   ],
   "outputs": [],
   "metadata": {}
  },
  {
   "cell_type": "markdown",
   "source": [
    "2. Write a function `checker_board(n)`, where the output $m$ is an $n\\times n$ array with the following form:\r\n",
    "\r\n",
    "$$m= \\begin{array}{ccccc}\r\n",
    "         1 & 0 & 1 & 0 & 1\\\\\r\n",
    "         0 & 1 & 0 & 1 & 0\\\\\r\n",
    "         1 & 0 & 1 & 0 & 1\\\\\r\n",
    "         0 & 1 & 0 & 1 & 0\\\\\r\n",
    "         1 & 0 & 1 & 0 & 1\r\n",
    "         \\end{array}$$\r\n",
    "\r\n",
    "\r\n",
    "Note that the upper-left element should always be 1. Assume that $n$ is a strictly positive integer."
   ],
   "metadata": {}
  },
  {
   "cell_type": "code",
   "execution_count": 55,
   "source": [
    "import numpy as np\r\n",
    "def checker_board(n):\r\n",
    "    \r\n",
    "    print('Checkerboard Pattern:')\r\n",
    "    \r\n",
    "    # create a n*n matrix\r\n",
    "    x = np.ones((n,n), dtype = int)\r\n",
    "    \r\n",
    "    # Fill with 1 the alternate rows and columns\r\n",
    "    x[1::2, ::2] = 0\r\n",
    "    x[::2, 1::2] = 0\r\n",
    "    \r\n",
    "    # print the pattern\r\n",
    "    for i in range(n):\r\n",
    "        for j in range(n):\r\n",
    "            print(x[i][j], end= \" \")\r\n",
    "        print()\r\n",
    "        "
   ],
   "outputs": [],
   "metadata": {}
  },
  {
   "cell_type": "code",
   "execution_count": 56,
   "source": [
    "# Validate your results\r\n",
    "\r\n",
    "\r\n",
    "# In: checker_board(1)\r\n",
    "# Out: 1\r\n",
    "\r\n",
    "# In: checker_board(2)\r\n",
    "# Out: array([[1,0],\r\n",
    "#             [0,1]])\r\n",
    "\r\n",
    "# In: checker_board(3)\r\n",
    "# Out: array([[1,0,1],\r\n",
    "#             [0,1,0],\r\n",
    "#              [1,0,1]])"
   ],
   "outputs": [],
   "metadata": {}
  },
  {
   "cell_type": "markdown",
   "source": [
    "3. Write a function `ar_triangle(b,h)` where the output is the area of a triangle with base, $b,$ and height, $h.$ Recall that the area of a triangle is one-half the base times the height. Assume that $b$ and $h$ are just 1 by 1 float numbers."
   ],
   "metadata": {}
  },
  {
   "cell_type": "code",
   "execution_count": null,
   "source": [
    "def ar_triangle(b,h):\r\n",
    "    '''\r\n",
    "    Area of the triangle \r\n",
    "    usong base b and height h\r\n",
    "    '''\r\n",
    "    area = 0.5 * b * h\r\n",
    "    return area"
   ],
   "outputs": [],
   "metadata": {}
  },
  {
   "cell_type": "code",
   "execution_count": 54,
   "source": [
    "# Validate\r\n",
    "\r\n",
    "# In: ar_triangle(1,1)\r\n",
    "# Out: 0.5\r\n",
    "\r\n",
    "# In: ar_triangle(2,1)\r\n",
    "# Out: 1\r\n",
    "\r\n",
    "# In: ar_triangle(12,5)\r\n",
    "# Out: 30\r\n"
   ],
   "outputs": [],
   "metadata": {}
  },
  {
   "cell_type": "markdown",
   "source": [
    "4. Write a function `split_matrix(m)`, where $m$ is an array, the output is a list $[m1, m2]$ where $m1$ is the left half of $m,$ and $m2$ is the right half of $m.$ In the case where there is an odd number of columns, the middle column should go to $m1.$ Assume that $m$ has at least two columns."
   ],
   "metadata": {}
  },
  {
   "cell_type": "code",
   "execution_count": 52,
   "source": [
    "import math\r\n",
    "def split_matrix(m):\r\n",
    "    '''\r\n",
    "    split the matrix\r\n",
    "    '''\r\n",
    "    a = m[:,range(math.floor(len(m)/2))]\r\n",
    "    b = m[:, range(math.floor(len(m)/2),len(m))]\r\n",
    "    return a, b"
   ],
   "outputs": [],
   "metadata": {}
  },
  {
   "cell_type": "code",
   "execution_count": 53,
   "source": [
    "import numpy as np\r\n",
    "\r\n",
    "m = np.ones((5,5))\r\n",
    "a,b = split_matrix(m)\r\n",
    "print(f\"the split of m is\\n a = {a} \\n and\\n b = {b}\")\r\n",
    "print(f\"The size of a is {np.shape(a)} and the size of b is {np.shape(b)} \")"
   ],
   "outputs": [
    {
     "output_type": "stream",
     "name": "stdout",
     "text": [
      "the split of m is\n",
      " a = [[1. 1.]\n",
      " [1. 1.]\n",
      " [1. 1.]\n",
      " [1. 1.]\n",
      " [1. 1.]] \n",
      " and\n",
      " b = [[1. 1. 1.]\n",
      " [1. 1. 1.]\n",
      " [1. 1. 1.]\n",
      " [1. 1. 1.]\n",
      " [1. 1. 1.]]\n",
      "The size of a is (5, 2) and the size of b is (5, 3) \n"
     ]
    }
   ],
   "metadata": {}
  },
  {
   "cell_type": "markdown",
   "source": [
    "5. Write a function `vol_cylinder(r,h)`, where $r$ and $h$ are the radius and height of a cylinder, respectively, and the output is a list $[s, v]$ where $s$ and $v$ are the surface area and volume of the same cylinder, respectively. Recall that the surface area of a cylinder is $2πr^2+2πrh,$ and the volume is $πr^2h.$    Assume that $r$ and $h$ are 1 by 1 float."
   ],
   "metadata": {}
  },
  {
   "cell_type": "code",
   "execution_count": 58,
   "source": [
    "def SaVol_cylinder(r,h):\r\n",
    "    '''\r\n",
    "    r = radius of the cylinder\r\n",
    "    h = height of the cylinder\r\n",
    "    Computing surface area $2\\pir^2+2\\pi rh$\r\n",
    "    Computing Volume of the cylinder $\\pir^2h$\r\n",
    "    '''\r\n",
    "    Sa = 2 * np.pi * r * (r + h) \r\n",
    "    Vol = np.pi * r * h\r\n",
    "    return Sa, Vol "
   ],
   "outputs": [],
   "metadata": {}
  },
  {
   "cell_type": "code",
   "execution_count": 60,
   "source": [
    "SaVol_cylinder(1,5)"
   ],
   "outputs": [
    {
     "output_type": "execute_result",
     "data": {
      "text/plain": [
       "(37.69911184307752, 15.707963267948966)"
      ]
     },
     "metadata": {},
     "execution_count": 60
    }
   ],
   "metadata": {}
  },
  {
   "cell_type": "code",
   "execution_count": 61,
   "source": [
    "# Validate your results\r\n",
    "#In: SaVol_cylinder(1,5)\r\n",
    "#Out: [37.6991, 15.7080]\r\n",
    "\r\n",
    "#In: SaVol_cylinder(2,4)\r\n",
    "#Out: [62.8319, 37.6991]"
   ],
   "outputs": [],
   "metadata": {}
  },
  {
   "cell_type": "markdown",
   "source": [
    "6. Write a function `n_odds(x)`, where $x$ is a one-dimensional array of floats and the output is the number of odd numbers in $x.$"
   ],
   "metadata": {}
  },
  {
   "cell_type": "code",
   "execution_count": 82,
   "source": [
    "def n_odd(x):\r\n",
    "    total_odd = sum([x[i] % 2 == 1 for i in range(len(x))])\r\n",
    "    return total_odd"
   ],
   "outputs": [],
   "metadata": {}
  },
  {
   "cell_type": "code",
   "execution_count": 85,
   "source": [
    "x = [1, 2, 3, 4,5, 6, 7]\r\n",
    "#[x[i] % 2 == 0 for i in range(len(x))]\r\n",
    "n_odd(x)\r\n",
    "y = n_odd(np.arange(100))\r\n",
    "y"
   ],
   "outputs": [
    {
     "output_type": "execute_result",
     "data": {
      "text/plain": [
       "50"
      ]
     },
     "metadata": {},
     "execution_count": 85
    }
   ],
   "metadata": {}
  },
  {
   "cell_type": "code",
   "execution_count": 86,
   "source": [
    "# Validate your results\r\n",
    "\r\n",
    "# In: n_odds(np.arange(100))\r\n",
    "# Out: 50\r\n",
    "\r\n",
    "# In: n_odds(np.arange(2, 100, 2))\r\n",
    "# Out: 0"
   ],
   "outputs": [],
   "metadata": {}
  },
  {
   "cell_type": "markdown",
   "source": [
    "7. Write a function `twos(m,n)`, where the output is an $m×n$ array of twos. Assume that $m$ and $n$ are strictly positive integers."
   ],
   "metadata": {}
  },
  {
   "cell_type": "code",
   "execution_count": 90,
   "source": [
    "def twos(m,n):\r\n",
    "    x = np.full((m,n),2)\r\n",
    "    return x"
   ],
   "outputs": [],
   "metadata": {}
  },
  {
   "cell_type": "code",
   "execution_count": 93,
   "source": [
    "y = twos(3,2)\r\n",
    "y"
   ],
   "outputs": [
    {
     "output_type": "execute_result",
     "data": {
      "text/plain": [
       "array([[2, 2],\n",
       "       [2, 2],\n",
       "       [2, 2]])"
      ]
     },
     "metadata": {},
     "execution_count": 93
    }
   ],
   "metadata": {}
  },
  {
   "cell_type": "markdown",
   "source": [
    "8. a) Write a `lambda` function that takes in $x$ and $y,$ and output the value of $x - y.$\r\n",
    "\r\n",
    "   b) Write a function `add_string(s1,s2)`, where the output is the concatenation of the strings s1 and s2."
   ],
   "metadata": {}
  },
  {
   "cell_type": "code",
   "execution_count": 105,
   "source": [
    "diff = lambda x, y: (x-y)\r\n",
    "def add_string(s1,s2):\r\n",
    "    s = s1 +' '+ s2\r\n",
    "    return s\r\n",
    "\r\n",
    "diff(2,3)"
   ],
   "outputs": [
    {
     "output_type": "execute_result",
     "data": {
      "text/plain": [
       "-1"
      ]
     },
     "metadata": {},
     "execution_count": 105
    }
   ],
   "metadata": {}
  },
  {
   "cell_type": "code",
   "execution_count": 99,
   "source": [
    "diff(3,2)"
   ],
   "outputs": [
    {
     "output_type": "execute_result",
     "data": {
      "text/plain": [
       "1"
      ]
     },
     "metadata": {},
     "execution_count": 99
    }
   ],
   "metadata": {}
  },
  {
   "cell_type": "code",
   "execution_count": 100,
   "source": [
    "diff(54, 24)"
   ],
   "outputs": [
    {
     "output_type": "execute_result",
     "data": {
      "text/plain": [
       "30"
      ]
     },
     "metadata": {},
     "execution_count": 100
    }
   ],
   "metadata": {}
  },
  {
   "cell_type": "code",
   "execution_count": 106,
   "source": [
    "s1 = \"Hello\"\r\n",
    "s2 = \"World\"\r\n",
    "add_string(s1,s2)"
   ],
   "outputs": [
    {
     "output_type": "execute_result",
     "data": {
      "text/plain": [
       "'Hello World'"
      ]
     },
     "metadata": {},
     "execution_count": 106
    }
   ],
   "metadata": {}
  },
  {
   "cell_type": "code",
   "execution_count": 107,
   "source": [
    "# In: s1 = add_string('Programming', ' ')\r\n",
    "# In: s2 = add_string('is', 'fun!')\r\n",
    "# In: add_string(s1, s2)\r\n",
    "# Out: 'Programming is fun!'"
   ],
   "outputs": [],
   "metadata": {}
  },
  {
   "cell_type": "markdown",
   "source": [
    "9. Write a function `greeting(name,age)`, where name is a string, age is a float, and the output is a string ‘Hi, my name is XXX and I am XXX years old.’ where XXX are the input name and age, respectively."
   ],
   "metadata": {}
  },
  {
   "cell_type": "code",
   "execution_count": 110,
   "source": [
    "def greeting(name, age):\r\n",
    "    print(f'Hi, my name is {name} and I am {age} years old')"
   ],
   "outputs": [],
   "metadata": {}
  },
  {
   "cell_type": "code",
   "execution_count": 114,
   "source": [
    "greeting('sampath', 35)"
   ],
   "outputs": [
    {
     "output_type": "stream",
     "name": "stdout",
     "text": [
      "Hi, my name is sampath and I am 35 years old\n"
     ]
    }
   ],
   "metadata": {}
  },
  {
   "cell_type": "markdown",
   "source": [
    "10. Let $r1$ and $r2$ be the radius of circles with the same center and let $r2>r1.$ Write a function `donut_area(r1, r2)`, where the output is the area outside of the circle with radius $r1$ and inside the circle with radius $r2.$ Make sure that the function is vectorized. Assume that $r1$ and $r2$ are one-dimensional array of the same size."
   ],
   "metadata": {}
  },
  {
   "cell_type": "code",
   "execution_count": 131,
   "source": [
    "def donut_area(r1, r2):\r\n",
    "    '''\r\n",
    "    Area of the circles\r\n",
    "    '''\r\n",
    "    ar = [abs(np.pi * (r1[i]**2 - r2[i]**2)) for i in range(len(r1))]\r\n",
    "    return ar\r\n"
   ],
   "outputs": [],
   "metadata": {}
  },
  {
   "cell_type": "code",
   "execution_count": 132,
   "source": [
    "donut_area(np.arange(1, 4),np.arange(2, 7, 2))\r\n"
   ],
   "outputs": [
    {
     "output_type": "execute_result",
     "data": {
      "text/plain": [
       "[9.42477796076938, 37.69911184307752, 84.82300164692441]"
      ]
     },
     "metadata": {},
     "execution_count": 132
    }
   ],
   "metadata": {}
  },
  {
   "cell_type": "markdown",
   "source": [
    "11. Write a function `within_tolerance(A,a,tol)`, where the output is an array or list of the indices in $A$ such that $|A−a|<tol.$ Assume that $A$ is a one-dimensional float list or array and that $a$ and $tol$ are 1 by 1 floats."
   ],
   "metadata": {}
  },
  {
   "cell_type": "code",
   "execution_count": 170,
   "source": [
    "def within_tolerance(A, a, tol):\r\n",
    "    '''\r\n",
    "    Write about the function!!\r\n",
    "    '''\r\n",
    "    tolerance = [A[i] for i in range(len(A)) if abs(A[i]-a)<= 0.5]\r\n",
    "    return tolerance\r\n"
   ],
   "outputs": [],
   "metadata": {}
  },
  {
   "cell_type": "code",
   "execution_count": 171,
   "source": [
    "within_tolerance([0,1,2,3], 1.5, 0.75)\r\n"
   ],
   "outputs": [
    {
     "output_type": "execute_result",
     "data": {
      "text/plain": [
       "[1, 2]"
      ]
     },
     "metadata": {},
     "execution_count": 171
    }
   ],
   "metadata": {}
  },
  {
   "cell_type": "markdown",
   "source": [
    "12. Write a function `bounding_array(A,top,bottom)`, where the output is equal to the array A wherever bottom < A < top, the output is equal to bottom wherever A <= bottom, and the output is equal to top wherever A >= top. Assume that A is one-dimensional float array and that top and bottom are 1 by 1 floats."
   ],
   "metadata": {}
  },
  {
   "cell_type": "code",
   "execution_count": 184,
   "source": [
    "def bounding_array(A,t,b):\r\n",
    "    \"\"\"    Args:\r\n",
    "        A ([type]): [description]\r\n",
    "        top ([type]): [description]\r\n",
    "        bottom ([type]): [description]\r\n",
    "    \"\"\"\r\n",
    "    bdd_array = [A[i] for i in range(len(A)) if b <= A[i] <= t]\r\n",
    "    return bdd_array"
   ],
   "outputs": [],
   "metadata": {}
  },
  {
   "cell_type": "code",
   "execution_count": 185,
   "source": [
    "\r\n",
    "A = np.arange(-6,6)\r\n",
    "top = 3\r\n",
    "bottom = -3\r\n",
    "bounding_array(A,3,-3)"
   ],
   "outputs": [
    {
     "output_type": "execute_result",
     "data": {
      "text/plain": [
       "[-3, -2, -1, 0, 1, 2, 3]"
      ]
     },
     "metadata": {},
     "execution_count": 185
    }
   ],
   "metadata": {}
  },
  {
   "cell_type": "markdown",
   "source": [],
   "metadata": {}
  }
 ],
 "metadata": {
  "orig_nbformat": 4,
  "language_info": {
   "name": "python",
   "version": "3.9.5",
   "mimetype": "text/x-python",
   "codemirror_mode": {
    "name": "ipython",
    "version": 3
   },
   "pygments_lexer": "ipython3",
   "nbconvert_exporter": "python",
   "file_extension": ".py"
  },
  "kernelspec": {
   "name": "python3",
   "display_name": "Python 3.9.5 64-bit"
  },
  "interpreter": {
   "hash": "a65d8f67d09b4ab847b5c538330978b4976ad7f006df7e5ad1ae57be3517caf4"
  }
 },
 "nbformat": 4,
 "nbformat_minor": 2
}