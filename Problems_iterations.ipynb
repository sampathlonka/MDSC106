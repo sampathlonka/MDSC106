{
 "cells": [
  {
   "cell_type": "markdown",
   "source": [
    "# Problems on Iterations\r\n",
    "\r\n",
    "1. Write a function `Maximum(x)1 to return the maximum (largest) value in x. Don’t use the built-in Python function `max`.\r\n",
    "\r\n",
    "2. Write a function `n_max(x, n)` to return a list consisting of the n largest elements of x. You may use Python’s `max` function. You may also assume that x is a one-dimensional list with no duplicate entries, and that n is strictly positive integer smaller than the length of x\r\n",
    "\r\n",
    "3. Let m be a matrix of positive integers. Write a function `trig_odd_even(m)` to return an array q, where $q[i, j] = sin (m[i, j])$ if $m[i, j]$ is even, and $q[i, j] = cos (m[i, j])$ if $m[i, j]$ is odd.\r\n",
    "4. Let $P$ be an $m\\times p$ array and $Q$ be a $p\\times n$ array. As you will find later in this book, $M=P\\times Q$ is defined as $M[i,j]=\\sum_{k=1}^p P[i,k].Q[k,j].$ Write a function `mat_mult(P, Q)` that uses for-loops to compute M, the matrix product of P and Q. Hint: You may need up to three nested for-loops. Do not use the function `np.dot`.\r\n",
    "5. The interest, $i,$ on a principle, $P_0,$ is a payment for allowing the bank to use your money. Compound interest is accumulated according to the formula $P_n=(1+i)P_{n-1},$ where n is the compounding period, usually in months or years. Write a function `saving_plan(P0, i, goal)` where the output is the number of years it will take $P_0$ to become goal at i% interest compounded annually.\r\n",
    "\r\n",
    "6. Write a function with `find_ones(M)`, where output is a list of indices i where M[i] is 1. You may assume that M is a list of only ones and zeros. Do not use the built-in Python function find.\r\n",
    "7. Assume you are rolling two six-sided dice, each side having an equal chance of occurring. Write a function `monopoly_dice()`, where the output is the sum of the values of the two dice thrown but with the following extra rule: if the two dice rolls are the same, then another roll is made, and the new sum added to the running total. For example, if the two dice show 3 and 4, then the running total should be 7. If the two dice show 1 and 1, then the running total should be 2 plus the total of another throw. Rolls stop when the dice rolls are different.\r\n",
    "8. A number is prime if it is divisible without remainder only by itself and 1. The number 1 is not prime. Write a function `isPrime(n)`, where output is 1 if n is prime and 0 otherwise. Assume that n is a strictly positive integer.\r\n",
    "\r\n",
    "9. Write a function `n_primes(n)` where primes is a list of the first n primes. Assume that n is a strictly positive integer.\r\n",
    "\r\n",
    "10. Write a function `n_fib_primes(n)`, where the output `fib_primes` is a list of the first n numbers that are both a Fibonacci number and prime. 1 is not prime. Hint: Do not use the recursive implementation of Fibonacci numbers.\r\n",
    "\r\n",
    "11. \r\n",
    "\r\n",
    "\r\n"
   ],
   "metadata": {}
  },
  {
   "cell_type": "code",
   "execution_count": null,
   "source": [],
   "outputs": [],
   "metadata": {}
  }
 ],
 "metadata": {
  "orig_nbformat": 4,
  "language_info": {
   "name": "python",
   "version": "3.9.5"
  },
  "kernelspec": {
   "name": "python3",
   "display_name": "Python 3.9.5 64-bit"
  },
  "interpreter": {
   "hash": "a65d8f67d09b4ab847b5c538330978b4976ad7f006df7e5ad1ae57be3517caf4"
  }
 },
 "nbformat": 4,
 "nbformat_minor": 2
}
